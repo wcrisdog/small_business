{
 "cells": [
  {
   "cell_type": "markdown",
   "id": "a5b7c9ec",
   "metadata": {},
   "source": [
    "## Data cleaning and sanity checks"
   ]
  },
  {
   "cell_type": "markdown",
   "id": "a3f234d2",
   "metadata": {},
   "source": [
    "In this file, missing patterns of datasets are checked, and treatment patterns are analyzed for sanity checks and preparation for further analysis."
   ]
  },
  {
   "cell_type": "markdown",
   "id": "4a638956",
   "metadata": {},
   "source": [
    "### Package, globals and functions"
   ]
  },
  {
   "cell_type": "code",
   "execution_count": null,
   "id": "799fdb5b",
   "metadata": {},
   "outputs": [],
   "source": [
    "# uncomment this line to install packages if not already installed\n",
    "# !pip install numpy, pandas, matplotlib, scikit-learn"
   ]
  },
  {
   "cell_type": "code",
   "execution_count": 1,
   "id": "ff610385",
   "metadata": {},
   "outputs": [],
   "source": [
    "import re\n",
    "import os\n",
    "\n",
    "import pandas as pd\n",
    "import numpy as np\n",
    "import matplotlib.pyplot as plt\n",
    "\n",
    "from sklearn.gaussian_process import GaussianProcessRegressor\n",
    "from sklearn.gaussian_process.kernels import RBF, ConstantKernel as C\n",
    "from sklearn.preprocessing import StandardScaler"
   ]
  },
  {
   "cell_type": "code",
   "execution_count": 3,
   "id": "705a75ca",
   "metadata": {},
   "outputs": [],
   "source": [
    "# function to clean firm_id\n",
    "def clean_firm_id(firm_id):\n",
    "    \"\"\"Cleans the firm_id by stripping spaces, removing trailing '00', and checking format.\"\"\"\n",
    "    firm_id = firm_id.strip()\n",
    "    if firm_id.endswith('00'):\n",
    "        firm_id = firm_id[:-2]\n",
    "\n",
    "    # Check if the cleaned firm_id follows the format ABCD-12\n",
    "    pattern = r'^[A-Z]{4}-\\d{2}$'\n",
    "    if not re.match(pattern, firm_id):\n",
    "        raise ValueError(f\"Invalid firm_id format: {firm_id}\")\n",
    "    return firm_id\n",
    "\n",
    "# Function to fill missing sales within each firm\n",
    "def fill_missing_values_with_gp(df, firm_id, sales_column):\n",
    "    def fill_sales(group):\n",
    "        # Extract non-missing and missing indices\n",
    "        non_missing = group[group[sales_column].notnull()]\n",
    "        missing = group[group[sales_column].isnull()]\n",
    "\n",
    "        if not missing.empty and len(non_missing) > 1:\n",
    "            # Prepare data for Gaussian Process\n",
    "            X_train = non_missing.index.values.reshape(-1, 1)\n",
    "            y_train = non_missing[sales_column].values\n",
    "            X_pred = missing.index.values.reshape(-1, 1)\n",
    "\n",
    "            # Define Gaussian Process with RBF kernel\n",
    "            kernel = C(1.0, (1e-3, 1e3)) * RBF(1.0, (1e-3, 1e3))\n",
    "            gp = GaussianProcessRegressor(kernel=kernel, n_restarts_optimizer=10, random_state=42)\n",
    "\n",
    "            # Fit and predict\n",
    "            gp.fit(X_train, y_train)\n",
    "            y_pred, _ = gp.predict(X_pred, return_std=True)\n",
    "\n",
    "            # Fill missing values\n",
    "            group.loc[missing.index, sales_column] = y_pred\n",
    "\n",
    "        return group\n",
    "\n",
    "    # Apply the function to each firm\n",
    "    df = df.groupby(firm_id).apply(fill_sales)\n",
    "    return df"
   ]
  },
  {
   "cell_type": "markdown",
   "id": "ab594693",
   "metadata": {},
   "source": [
    "### Data Cleaning & Wrangling"
   ]
  },
  {
   "cell_type": "markdown",
   "id": "79cb0175",
   "metadata": {},
   "source": [
    "#### Firm Information"
   ]
  },
  {
   "cell_type": "code",
   "execution_count": 4,
   "id": "e0c2c3f3",
   "metadata": {},
   "outputs": [
    {
     "name": "stdout",
     "output_type": "stream",
     "text": [
      "Missing data in each column:\n",
      "firm_id        0\n",
      "firm_name      0\n",
      "firm_sector    0\n",
      "dtype: int64\n"
     ]
    },
    {
     "data": {
      "text/html": [
       "<div>\n",
       "<style scoped>\n",
       "    .dataframe tbody tr th:only-of-type {\n",
       "        vertical-align: middle;\n",
       "    }\n",
       "\n",
       "    .dataframe tbody tr th {\n",
       "        vertical-align: top;\n",
       "    }\n",
       "\n",
       "    .dataframe thead th {\n",
       "        text-align: right;\n",
       "    }\n",
       "</style>\n",
       "<table border=\"1\" class=\"dataframe\">\n",
       "  <thead>\n",
       "    <tr style=\"text-align: right;\">\n",
       "      <th></th>\n",
       "      <th>firm_id</th>\n",
       "      <th>firm_name</th>\n",
       "      <th>firm_sector</th>\n",
       "    </tr>\n",
       "  </thead>\n",
       "  <tbody>\n",
       "    <tr>\n",
       "      <th>count</th>\n",
       "      <td>498</td>\n",
       "      <td>498</td>\n",
       "      <td>498</td>\n",
       "    </tr>\n",
       "    <tr>\n",
       "      <th>unique</th>\n",
       "      <td>498</td>\n",
       "      <td>498</td>\n",
       "      <td>3</td>\n",
       "    </tr>\n",
       "    <tr>\n",
       "      <th>top</th>\n",
       "      <td>AAAI-15</td>\n",
       "      <td>Resorts International Holdings</td>\n",
       "      <td>Retail</td>\n",
       "    </tr>\n",
       "    <tr>\n",
       "      <th>freq</th>\n",
       "      <td>1</td>\n",
       "      <td>1</td>\n",
       "      <td>209</td>\n",
       "    </tr>\n",
       "  </tbody>\n",
       "</table>\n",
       "</div>"
      ],
      "text/plain": [
       "        firm_id                       firm_name firm_sector\n",
       "count       498                             498         498\n",
       "unique      498                             498           3\n",
       "top     AAAI-15  Resorts International Holdings      Retail\n",
       "freq          1                               1         209"
      ]
     },
     "execution_count": 4,
     "metadata": {},
     "output_type": "execute_result"
    }
   ],
   "source": [
    "# Check for missing data in the firm_info dataframe\n",
    "firm_info = pd.read_csv('firm_information.csv')\n",
    "missing_data = firm_info.isnull().sum()\n",
    "print(\"Missing data in each column:\")\n",
    "print(missing_data)\n",
    "firm_info.describe()\n",
    "\n",
    "# firm_id and firm_name have no missing values and are unique, so we can use them as identifiers"
   ]
  },
  {
   "cell_type": "code",
   "execution_count": 5,
   "id": "778b404a",
   "metadata": {},
   "outputs": [
    {
     "name": "stdout",
     "output_type": "stream",
     "text": [
      "Distribution of firm_sector:\n",
      "firm_sector\n",
      "Retail         209\n",
      "Hospitality    149\n",
      "Fast Food      140\n",
      "Name: count, dtype: int64\n"
     ]
    },
    {
     "data": {
      "image/png": "[encoded data removed]",
      "text/plain": [
       "<Figure size 1000x600 with 1 Axes>"
      ]
     },
     "metadata": {},
     "output_type": "display_data"
    }
   ],
   "source": [
    "# Check the distribution of the 'firm_sector' column\n",
    "if 'firm_sector' in firm_info.columns:\n",
    "    sector_distribution = firm_info['firm_sector'].value_counts()\n",
    "    print(\"Distribution of firm_sector:\")\n",
    "    print(sector_distribution)\n",
    "    plt.figure(figsize=(10, 6))\n",
    "    sector_distribution.plot(kind='bar', color='skyblue')\n",
    "    plt.title('Distribution of Firm Sector')\n",
    "    plt.xlabel('Firm Sector')\n",
    "    plt.ylabel('Count')\n",
    "    plt.xticks(rotation=45)\n",
    "    plt.show()\n"
   ]
  },
  {
   "cell_type": "markdown",
   "id": "667afeac",
   "metadata": {},
   "source": [
    "#### Aggregate firm sales"
   ]
  },
  {
   "cell_type": "code",
   "execution_count": 6,
   "id": "853ebe40",
   "metadata": {},
   "outputs": [
    {
     "name": "stdout",
     "output_type": "stream",
     "text": [
      "Missing data in each column:\n",
      "firm_id           0\n",
      "date              0\n",
      "sales_t        2100\n",
      "firm_sector       0\n",
      "dtype: int64\n"
     ]
    },
    {
     "data": {
      "text/html": [
       "<div>\n",
       "<style scoped>\n",
       "    .dataframe tbody tr th:only-of-type {\n",
       "        vertical-align: middle;\n",
       "    }\n",
       "\n",
       "    .dataframe tbody tr th {\n",
       "        vertical-align: top;\n",
       "    }\n",
       "\n",
       "    .dataframe thead th {\n",
       "        text-align: right;\n",
       "    }\n",
       "</style>\n",
       "<table border=\"1\" class=\"dataframe\">\n",
       "  <thead>\n",
       "    <tr style=\"text-align: right;\">\n",
       "      <th></th>\n",
       "      <th>sales_t</th>\n",
       "    </tr>\n",
       "  </thead>\n",
       "  <tbody>\n",
       "    <tr>\n",
       "      <th>count</th>\n",
       "      <td>54546.000000</td>\n",
       "    </tr>\n",
       "    <tr>\n",
       "      <th>mean</th>\n",
       "      <td>8633.203241</td>\n",
       "    </tr>\n",
       "    <tr>\n",
       "      <th>std</th>\n",
       "      <td>5276.016213</td>\n",
       "    </tr>\n",
       "    <tr>\n",
       "      <th>min</th>\n",
       "      <td>504.000000</td>\n",
       "    </tr>\n",
       "    <tr>\n",
       "      <th>25%</th>\n",
       "      <td>4266.000000</td>\n",
       "    </tr>\n",
       "    <tr>\n",
       "      <th>50%</th>\n",
       "      <td>7978.000000</td>\n",
       "    </tr>\n",
       "    <tr>\n",
       "      <th>75%</th>\n",
       "      <td>12003.000000</td>\n",
       "    </tr>\n",
       "    <tr>\n",
       "      <th>max</th>\n",
       "      <td>45973.000000</td>\n",
       "    </tr>\n",
       "  </tbody>\n",
       "</table>\n",
       "</div>"
      ],
      "text/plain": [
       "            sales_t\n",
       "count  54546.000000\n",
       "mean    8633.203241\n",
       "std     5276.016213\n",
       "min      504.000000\n",
       "25%     4266.000000\n",
       "50%     7978.000000\n",
       "75%    12003.000000\n",
       "max    45973.000000"
      ]
     },
     "execution_count": 6,
     "metadata": {},
     "output_type": "execute_result"
    }
   ],
   "source": [
    "# Check for wrongly represented firm_id in the firm_sales dataframe\n",
    "\n",
    "# firm id in firm_sales and firm_aux include spaces which need to be stripped, and extra two zeros at the end of firm_id need to be removed\n",
    "firm_sales = pd.read_csv('aggregate_firm_sales.csv')\n",
    "firm_sales['firm_id'] = firm_sales['firm_id'].apply(clean_firm_id)\n",
    "firm_sales = firm_sales.merge(firm_info[['firm_id', 'firm_sector']], on='firm_id', how='left')\n",
    "missing_data = firm_sales.isnull().sum()\n",
    "print(\"Missing data in each column:\")\n",
    "print(missing_data)\n",
    "firm_sales.describe()\n",
    "\n",
    "# All firm sector cleaned!\n",
    "# sales has no negative or extra large values, so we only need to deal with missing values"
   ]
  },
  {
   "cell_type": "code",
   "execution_count": null,
   "id": "28b6251d",
   "metadata": {},
   "outputs": [],
   "source": [
    "# Fill in missing values of firm's sales within each firm_sector using Gaussian Process\n",
    "\n",
    "# Apply the function to firm_sales\n",
    "scaler = StandardScaler()\n",
    "firm_sales['sales_t'] = scaler.fit_transform(firm_sales[['sales_t']])\n",
    "firm_with_filled_sales = fill_missing_values_with_gp(firm_sales, 'firm_id', 'sales_t')\n",
    "firm_with_filled_sales['sales_t'] = scaler.inverse_transform(firm_with_filled_sales[['sales_t']])"
   ]
  },
  {
   "cell_type": "code",
   "execution_count": null,
   "id": "3a00f017",
   "metadata": {},
   "outputs": [],
   "source": [
    "# save the imputed dataset to a new csv\n",
    "firm_with_filled_sales.to_csv('firm_sales_with_filled_values.csv', index=False)"
   ]
  },
  {
   "cell_type": "markdown",
   "id": "73d097c9",
   "metadata": {},
   "source": [
    "#### Auxiliary firm data"
   ]
  },
  {
   "cell_type": "code",
   "execution_count": null,
   "id": "42aa0c27",
   "metadata": {},
   "outputs": [],
   "source": [
    "# Check for first month of data after applying the same cleaning and merging process\n",
    "first = pd.read_csv('./monthly_data/2010_1.csv')\n",
    "first['firm_id'] = first['firm_id'].apply(clean_firm_id)\n",
    "first = first.merge(firm_info[['firm_id', 'firm_sector']], on='firm_id', how='left')\n",
    "missing_data = first.isnull().sum()\n",
    "print(\"Missing data in each column:\")\n",
    "print(missing_data)\n",
    "first.describe()"
   ]
  },
  {
   "cell_type": "code",
   "execution_count": null,
   "id": "19d6dbcd",
   "metadata": {},
   "outputs": [],
   "source": [
    "# Fill in missing employment, wage bill and revenue\n",
    "detrend_cols = ['employment_t', 'wage_bill_t', 'revenue_t']\n",
    "for col in detrend_cols:\n",
    "    scaler = StandardScaler()\n",
    "    first[col] = scaler.fit_transform(first[[col]])\n",
    "    first = fill_missing_values_with_gp(first, 'firm_sector', col)\n",
    "    first[col] = scaler.inverse_transform(first[[col]])"
   ]
  }
 ],
 "metadata": {
  "kernelspec": {
   "display_name": ".venv (3.11.13)",
   "language": "python",
   "name": "python3"
  },
  "language_info": {
   "codemirror_mode": {
    "name": "ipython",
    "version": 3
   },
   "file_extension": ".py",
   "mimetype": "text/x-python",
   "name": "python",
   "nbconvert_exporter": "python",
   "pygments_lexer": "ipython3",
   "version": "3.11.13"
  }
 },
 "nbformat": 4,
 "nbformat_minor": 5
}
