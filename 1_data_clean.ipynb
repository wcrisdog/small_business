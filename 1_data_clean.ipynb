{
 "cells": [
  {
   "cell_type": "markdown",
   "id": "a5b7c9ec",
   "metadata": {},
   "source": [
    "## Data cleaning and sanity checks"
   ]
  },
  {
   "cell_type": "markdown",
   "id": "a3f234d2",
   "metadata": {},
   "source": [
    "In this file, missing patterns of datasets are checked, and treatment patterns are analyzed for sanity checks and preparation for further analysis."
   ]
  },
  {
   "cell_type": "markdown",
   "id": "4a638956",
   "metadata": {},
   "source": [
    "### Package, globals and functions"
   ]
  },
  {
   "cell_type": "code",
   "execution_count": null,
   "id": "799fdb5b",
   "metadata": {},
   "outputs": [],
   "source": [
    "# uncomment this line to install packages if not already installed\n",
    "# !pip install numpy, pandas, matplotlib, scikit-learn"
   ]
  },
  {
   "cell_type": "code",
   "execution_count": null,
   "id": "ff610385",
   "metadata": {},
   "outputs": [],
   "source": [
    "import re\n",
    "import os\n",
    "from typing import Optional, Tuple\n",
    "from pathlib import Path\n",
    "\n",
    "import pandas as pd\n",
    "import numpy as np\n",
    "import matplotlib.pyplot as plt\n",
    "\n",
    "from sklearn.gaussian_process import GaussianProcessRegressor\n",
    "from sklearn.gaussian_process.kernels import RBF, WhiteKernel, ConstantKernel as C\n",
    "from sklearn.preprocessing import StandardScaler"
   ]
  },
  {
   "cell_type": "code",
   "execution_count": 2,
   "id": "76a5748f",
   "metadata": {},
   "outputs": [],
   "source": [
    "folder = \"./monthly_data\""
   ]
  },
  {
   "cell_type": "code",
   "execution_count": 107,
   "id": "705a75ca",
   "metadata": {},
   "outputs": [],
   "source": [
    "# function to clean firm_id\n",
    "def clean_firm_id(firm_id: str) -> str:\n",
    "    \"\"\"Cleans the firm_id by stripping spaces, removing trailing '00', and checking format.\"\"\"\n",
    "    firm_id = firm_id.strip()\n",
    "    if firm_id.endswith('00'):\n",
    "        firm_id = firm_id[:-2]\n",
    "\n",
    "    # Check if the cleaned firm_id follows the format ABCD-12\n",
    "    pattern = r'^[A-Z]{4}-\\d{2}$'\n",
    "    if not re.match(pattern, firm_id):\n",
    "        raise ValueError(f\"Invalid firm_id format: {firm_id}\")\n",
    "    return firm_id\n",
    "\n",
    "def to_month_index(s: pd.Series) -> np.ndarray:\n",
    "    # change date to month index\n",
    "    p = s.dt.to_period('M').astype(int)\n",
    "    return p.to_numpy(dtype=float).reshape(-1, 1)\n",
    "\n",
    "# Function to fill missing sales within each firm\n",
    "def gp_impute_firm_values(\n",
    "        firm_sales_cleaned: pd.DataFrame,\n",
    "        target_col: str = 'sales_t',\n",
    "        group_col: str = 'firm_id',\n",
    "    ) -> pd.DataFrame:\n",
    "    \"\"\"\n",
    "    Use Gaussian Process to impute missing values within each group for target_col.\n",
    "    \"\"\"\n",
    "\n",
    "    # check input dataframe has required columns\n",
    "    required_cols = {group_col, 'date', target_col}\n",
    "    missing_cols = required_cols - set(firm_sales_cleaned.columns)\n",
    "    if missing_cols:\n",
    "        raise KeyError(f\"Missing required columns in input dataframe: {missing_cols}\")\n",
    "\n",
    "    df = firm_sales_cleaned.copy()\n",
    "\n",
    "    # confirm on date column type\n",
    "    if not np.issubdtype(df['date'].dtype, np.datetime64):\n",
    "        df['date'] = pd.to_datetime(df['date'], errors='coerce')\n",
    "    if df['date'].isna().any():\n",
    "        bad = df.loc[df['date'].isna()].head()\n",
    "        raise ValueError(f\"Some dates could not be parsed. Example rows:\\n{bad}\")\n",
    "\n",
    "    def impute_group(g: pd.DataFrame) -> pd.DataFrame:\n",
    "        g = g.sort_values('date').copy()\n",
    "        y = g[target_col]\n",
    "        miss = y.isna()\n",
    "        if not miss.any():\n",
    "            return g\n",
    "\n",
    "        X_all = to_month_index(g['date'])\n",
    "        X_train = X_all[~miss.to_numpy()]\n",
    "        X_pred = X_all[miss.to_numpy()]\n",
    "        y_train = y.loc[~miss].to_numpy(dtype=float)\n",
    "\n",
    "        if y_train.size < 2:\n",
    "            # use linear interpolation if too few points to fit GP\n",
    "            print(\"Linear interpolation used due to insufficient data points.\")\n",
    "            g[target_col] = y.interpolate(method='linear', limit_direction='both')\n",
    "            return g\n",
    "    \n",
    "\n",
    "        kernel = (\n",
    "            C(1.0, (1e-6, 1e6))\n",
    "            * RBF(length_scale=1.0, length_scale_bounds=(1e-6, 1e6))\n",
    "            + WhiteKernel(noise_level=1e-4, noise_level_bounds=(1e-9, 1e1))\n",
    "        )\n",
    "        gp = GaussianProcessRegressor(\n",
    "            kernel=kernel,\n",
    "            normalize_y=True,\n",
    "            n_restarts_optimizer=3,\n",
    "            random_state=42,\n",
    "            alpha=1e-6\n",
    "        )\n",
    "\n",
    "        # warnings.filterwarnings(\"ignore\", category=ConvergenceWarning)\n",
    "\n",
    "        try:\n",
    "            gp.fit(X_train, y_train)\n",
    "            y_pred = gp.predict(X_pred)\n",
    "            g.loc[miss, target_col] = y_pred\n",
    "        except Exception:\n",
    "            # backup plan: linear interpolation if GP fails\n",
    "            print(\"GP fitting failed, using linear interpolation instead.\")\n",
    "            g[target_col] = y.interpolate(method='linear', limit_direction='both')\n",
    "\n",
    "        # backup plan: ensure no remaining missing values\n",
    "        if g[target_col].isna().any():\n",
    "            print(\"Remaining missing values after GP, using linear interpolation.\")\n",
    "            g[target_col] = g[target_col].interpolate(method='linear', limit_direction='both')\n",
    "\n",
    "        return g\n",
    "\n",
    "    non_group_cols = [c for c in firm_sales_cleaned.columns if c != group_col]\n",
    "    out = (\n",
    "        df.groupby(group_col, sort=False)[non_group_cols]\n",
    "          .apply(impute_group)\n",
    "          .reset_index()\n",
    "    )\n",
    "    out.drop(columns='level_1', inplace=True, errors='ignore')\n",
    "    return out\n",
    "\n",
    "def first_adoption_row(g: pd.DataFrame) -> pd.DataFrame:\n",
    "    '''\n",
    "    Get the first row where the firm adopted the program.\n",
    "    '''\n",
    "    g = g.sort_values('date').copy()\n",
    "    adopt = g['adopt_t'].fillna(0).astype(int)\n",
    "    prev = adopt.shift(fill_value=0)\n",
    "    trans = (adopt == 1) & (prev == 0)\n",
    "    return g.loc[trans].head(1)\n",
    "\n",
    "def has_dropout(g: pd.DataFrame) -> pd.Series:\n",
    "    '''\n",
    "    Check if a firm has dropped out after adopting the program.\n",
    "    '''\n",
    "    g = g.sort_values('date')\n",
    "    adopt = g['adopt_t'].fillna(0).astype(int)\n",
    "    had_adopted = adopt.cummax()\n",
    "    dropped = ((had_adopted == 1) & (adopt == 0)).any()\n",
    "    return pd.Series({'dropped_out': bool(dropped)})\n"
   ]
  },
  {
   "cell_type": "markdown",
   "id": "ab594693",
   "metadata": {},
   "source": [
    "### Data Cleaning & Wrangling"
   ]
  },
  {
   "cell_type": "markdown",
   "id": "79cb0175",
   "metadata": {},
   "source": [
    "#### Firm Information"
   ]
  },
  {
   "cell_type": "code",
   "execution_count": 5,
   "id": "e0c2c3f3",
   "metadata": {},
   "outputs": [
    {
     "name": "stdout",
     "output_type": "stream",
     "text": [
      "Missing data in each column:\n",
      "firm_id        0\n",
      "firm_name      0\n",
      "firm_sector    0\n",
      "dtype: int64\n"
     ]
    },
    {
     "data": {
      "text/html": [
       "<div>\n",
       "<style scoped>\n",
       "    .dataframe tbody tr th:only-of-type {\n",
       "        vertical-align: middle;\n",
       "    }\n",
       "\n",
       "    .dataframe tbody tr th {\n",
       "        vertical-align: top;\n",
       "    }\n",
       "\n",
       "    .dataframe thead th {\n",
       "        text-align: right;\n",
       "    }\n",
       "</style>\n",
       "<table border=\"1\" class=\"dataframe\">\n",
       "  <thead>\n",
       "    <tr style=\"text-align: right;\">\n",
       "      <th></th>\n",
       "      <th>firm_id</th>\n",
       "      <th>firm_name</th>\n",
       "      <th>firm_sector</th>\n",
       "    </tr>\n",
       "  </thead>\n",
       "  <tbody>\n",
       "    <tr>\n",
       "      <th>count</th>\n",
       "      <td>498</td>\n",
       "      <td>498</td>\n",
       "      <td>498</td>\n",
       "    </tr>\n",
       "    <tr>\n",
       "      <th>unique</th>\n",
       "      <td>498</td>\n",
       "      <td>498</td>\n",
       "      <td>3</td>\n",
       "    </tr>\n",
       "    <tr>\n",
       "      <th>top</th>\n",
       "      <td>AAAI-15</td>\n",
       "      <td>Resorts International Holdings</td>\n",
       "      <td>Retail</td>\n",
       "    </tr>\n",
       "    <tr>\n",
       "      <th>freq</th>\n",
       "      <td>1</td>\n",
       "      <td>1</td>\n",
       "      <td>209</td>\n",
       "    </tr>\n",
       "  </tbody>\n",
       "</table>\n",
       "</div>"
      ],
      "text/plain": [
       "        firm_id                       firm_name firm_sector\n",
       "count       498                             498         498\n",
       "unique      498                             498           3\n",
       "top     AAAI-15  Resorts International Holdings      Retail\n",
       "freq          1                               1         209"
      ]
     },
     "execution_count": 5,
     "metadata": {},
     "output_type": "execute_result"
    }
   ],
   "source": [
    "# Check for missing data in the firm_info dataframe\n",
    "firm_info = pd.read_csv('firm_information.csv')\n",
    "missing_data = firm_info.isnull().sum()\n",
    "print(\"Missing data in each column:\")\n",
    "print(missing_data)\n",
    "firm_info.describe()\n",
    "\n",
    "# firm_id and firm_name have no missing values and are unique, so we can use them as identifiers"
   ]
  },
  {
   "cell_type": "code",
   "execution_count": 6,
   "id": "778b404a",
   "metadata": {},
   "outputs": [
    {
     "name": "stdout",
     "output_type": "stream",
     "text": [
      "Distribution of firm_sector:\n",
      "firm_sector\n",
      "Retail         209\n",
      "Hospitality    149\n",
      "Fast Food      140\n",
      "Name: count, dtype: int64\n"
     ]
    },
    {
     "data": {
      "image/png": "[encoded data removed]",
      "text/plain": [
       "<Figure size 1000x600 with 1 Axes>"
      ]
     },
     "metadata": {},
     "output_type": "display_data"
    }
   ],
   "source": [
    "# Check the distribution of the 'firm_sector' column\n",
    "if 'firm_sector' in firm_info.columns:\n",
    "    sector_distribution = firm_info['firm_sector'].value_counts()\n",
    "    print(\"Distribution of firm_sector:\")\n",
    "    print(sector_distribution)\n",
    "    plt.figure(figsize=(10, 6))\n",
    "    sector_distribution.plot(kind='bar', color='skyblue')\n",
    "    plt.title('Distribution of Firm Sector')\n",
    "    plt.xlabel('Firm Sector')\n",
    "    plt.ylabel('Count')\n",
    "    plt.xticks(rotation=45)\n",
    "    plt.show()\n"
   ]
  },
  {
   "cell_type": "markdown",
   "id": "667afeac",
   "metadata": {},
   "source": [
    "#### Aggregate firm sales"
   ]
  },
  {
   "cell_type": "code",
   "execution_count": 13,
   "id": "853ebe40",
   "metadata": {},
   "outputs": [
    {
     "name": "stdout",
     "output_type": "stream",
     "text": [
      "Missing data in each column:\n",
      "firm_id           0\n",
      "date              0\n",
      "sales_t        2100\n",
      "firm_sector       0\n",
      "dtype: int64\n"
     ]
    },
    {
     "data": {
      "text/html": [
       "<div>\n",
       "<style scoped>\n",
       "    .dataframe tbody tr th:only-of-type {\n",
       "        vertical-align: middle;\n",
       "    }\n",
       "\n",
       "    .dataframe tbody tr th {\n",
       "        vertical-align: top;\n",
       "    }\n",
       "\n",
       "    .dataframe thead th {\n",
       "        text-align: right;\n",
       "    }\n",
       "</style>\n",
       "<table border=\"1\" class=\"dataframe\">\n",
       "  <thead>\n",
       "    <tr style=\"text-align: right;\">\n",
       "      <th></th>\n",
       "      <th>sales_t</th>\n",
       "    </tr>\n",
       "  </thead>\n",
       "  <tbody>\n",
       "    <tr>\n",
       "      <th>count</th>\n",
       "      <td>54546.000000</td>\n",
       "    </tr>\n",
       "    <tr>\n",
       "      <th>mean</th>\n",
       "      <td>8633.203241</td>\n",
       "    </tr>\n",
       "    <tr>\n",
       "      <th>std</th>\n",
       "      <td>5276.016213</td>\n",
       "    </tr>\n",
       "    <tr>\n",
       "      <th>min</th>\n",
       "      <td>504.000000</td>\n",
       "    </tr>\n",
       "    <tr>\n",
       "      <th>25%</th>\n",
       "      <td>4266.000000</td>\n",
       "    </tr>\n",
       "    <tr>\n",
       "      <th>50%</th>\n",
       "      <td>7978.000000</td>\n",
       "    </tr>\n",
       "    <tr>\n",
       "      <th>75%</th>\n",
       "      <td>12003.000000</td>\n",
       "    </tr>\n",
       "    <tr>\n",
       "      <th>max</th>\n",
       "      <td>45973.000000</td>\n",
       "    </tr>\n",
       "  </tbody>\n",
       "</table>\n",
       "</div>"
      ],
      "text/plain": [
       "            sales_t\n",
       "count  54546.000000\n",
       "mean    8633.203241\n",
       "std     5276.016213\n",
       "min      504.000000\n",
       "25%     4266.000000\n",
       "50%     7978.000000\n",
       "75%    12003.000000\n",
       "max    45973.000000"
      ]
     },
     "execution_count": 13,
     "metadata": {},
     "output_type": "execute_result"
    }
   ],
   "source": [
    "# Check for wrongly represented firm_id in the firm_sales dataframe\n",
    "\n",
    "# firm id in firm_sales and firm_aux include spaces which need to be stripped, and extra two zeros at the end of firm_id need to be removed\n",
    "firm_sales = pd.read_csv('aggregate_firm_sales.csv')\n",
    "firm_sales['firm_id'] = firm_sales['firm_id'].apply(clean_firm_id)\n",
    "firm_sales = firm_sales.merge(firm_info[['firm_id', 'firm_sector']], on='firm_id', how='left')\n",
    "missing_data = firm_sales.isnull().sum()\n",
    "print(\"Missing data in each column:\")\n",
    "print(missing_data)\n",
    "firm_sales.describe()\n",
    "\n",
    "# All firm sector cleaned!\n",
    "# sales has no negative or extra large values, so we only need to deal with missing values"
   ]
  },
  {
   "cell_type": "code",
   "execution_count": 59,
   "id": "f4fb970c",
   "metadata": {},
   "outputs": [],
   "source": [
    "firm_sales_cleaned = firm_sales.copy()\n",
    "firm_sales_cleaned['date'] = pd.to_datetime(firm_sales_cleaned['date'], errors='coerce')\n",
    "firm_sales_cleaned['date'] = firm_sales_cleaned['date'].dt.to_period(\"M\").dt.to_timestamp()"
   ]
  },
  {
   "cell_type": "code",
   "execution_count": 60,
   "id": "28b6251d",
   "metadata": {},
   "outputs": [],
   "source": [
    "# Fill in missing values of firm's sales within each firm_sector using Gaussian Process\n",
    "\n",
    "# Apply the function to firm_sales\n",
    "firm_with_filled_sales = gp_impute_firm_values(firm_sales_cleaned, target_col='sales_t', group_col='firm_id')"
   ]
  },
  {
   "cell_type": "code",
   "execution_count": 61,
   "id": "3a00f017",
   "metadata": {},
   "outputs": [],
   "source": [
    "# save the imputed dataset to a new csv\n",
    "firm_with_filled_sales.to_csv('aggregate_firm_sales_filled.csv', index=False)\n",
    "firm_sales_cleaned.to_csv('aggregate_firm_sales_cleaned.csv', index=False)\n"
   ]
  },
  {
   "cell_type": "markdown",
   "id": "73d097c9",
   "metadata": {},
   "source": [
    "#### Auxiliary firm data"
   ]
  },
  {
   "cell_type": "code",
   "execution_count": 62,
   "id": "42aa0c27",
   "metadata": {},
   "outputs": [
    {
     "name": "stdout",
     "output_type": "stream",
     "text": [
      "Missing data in each column:\n",
      "date             0\n",
      "firm_id          0\n",
      "employment_t    17\n",
      "wage_bill_t     20\n",
      "revenue_t       15\n",
      "adopt_t          0\n",
      "firm_sector      0\n",
      "dtype: int64\n"
     ]
    },
    {
     "data": {
      "text/html": [
       "<div>\n",
       "<style scoped>\n",
       "    .dataframe tbody tr th:only-of-type {\n",
       "        vertical-align: middle;\n",
       "    }\n",
       "\n",
       "    .dataframe tbody tr th {\n",
       "        vertical-align: top;\n",
       "    }\n",
       "\n",
       "    .dataframe thead th {\n",
       "        text-align: right;\n",
       "    }\n",
       "</style>\n",
       "<table border=\"1\" class=\"dataframe\">\n",
       "  <thead>\n",
       "    <tr style=\"text-align: right;\">\n",
       "      <th></th>\n",
       "      <th>employment_t</th>\n",
       "      <th>wage_bill_t</th>\n",
       "      <th>revenue_t</th>\n",
       "      <th>adopt_t</th>\n",
       "    </tr>\n",
       "  </thead>\n",
       "  <tbody>\n",
       "    <tr>\n",
       "      <th>count</th>\n",
       "      <td>455.000000</td>\n",
       "      <td>452.000000</td>\n",
       "      <td>4.570000e+02</td>\n",
       "      <td>472.0</td>\n",
       "    </tr>\n",
       "    <tr>\n",
       "      <th>mean</th>\n",
       "      <td>96.336264</td>\n",
       "      <td>28741.805841</td>\n",
       "      <td>6.044910e+05</td>\n",
       "      <td>0.0</td>\n",
       "    </tr>\n",
       "    <tr>\n",
       "      <th>std</th>\n",
       "      <td>39.100502</td>\n",
       "      <td>14981.103128</td>\n",
       "      <td>5.094930e+05</td>\n",
       "      <td>0.0</td>\n",
       "    </tr>\n",
       "    <tr>\n",
       "      <th>min</th>\n",
       "      <td>24.000000</td>\n",
       "      <td>4402.840000</td>\n",
       "      <td>1.777419e+04</td>\n",
       "      <td>0.0</td>\n",
       "    </tr>\n",
       "    <tr>\n",
       "      <th>25%</th>\n",
       "      <td>64.000000</td>\n",
       "      <td>15951.960000</td>\n",
       "      <td>1.745283e+05</td>\n",
       "      <td>0.0</td>\n",
       "    </tr>\n",
       "    <tr>\n",
       "      <th>50%</th>\n",
       "      <td>96.000000</td>\n",
       "      <td>28085.800000</td>\n",
       "      <td>4.757357e+05</td>\n",
       "      <td>0.0</td>\n",
       "    </tr>\n",
       "    <tr>\n",
       "      <th>75%</th>\n",
       "      <td>127.500000</td>\n",
       "      <td>40533.900000</td>\n",
       "      <td>8.685781e+05</td>\n",
       "      <td>0.0</td>\n",
       "    </tr>\n",
       "    <tr>\n",
       "      <th>max</th>\n",
       "      <td>177.000000</td>\n",
       "      <td>72985.680000</td>\n",
       "      <td>2.522237e+06</td>\n",
       "      <td>0.0</td>\n",
       "    </tr>\n",
       "  </tbody>\n",
       "</table>\n",
       "</div>"
      ],
      "text/plain": [
       "       employment_t   wage_bill_t     revenue_t  adopt_t\n",
       "count    455.000000    452.000000  4.570000e+02    472.0\n",
       "mean      96.336264  28741.805841  6.044910e+05      0.0\n",
       "std       39.100502  14981.103128  5.094930e+05      0.0\n",
       "min       24.000000   4402.840000  1.777419e+04      0.0\n",
       "25%       64.000000  15951.960000  1.745283e+05      0.0\n",
       "50%       96.000000  28085.800000  4.757357e+05      0.0\n",
       "75%      127.500000  40533.900000  8.685781e+05      0.0\n",
       "max      177.000000  72985.680000  2.522237e+06      0.0"
      ]
     },
     "execution_count": 62,
     "metadata": {},
     "output_type": "execute_result"
    }
   ],
   "source": [
    "# Check for first month of data after applying the same cleaning and merging process\n",
    "first = pd.read_csv('./monthly_data/2010_1.csv')\n",
    "first['firm_id'] = first['firm_id'].apply(clean_firm_id)\n",
    "first = first.merge(firm_info[['firm_id', 'firm_sector']], on='firm_id', how='left')\n",
    "missing_data = first.isnull().sum()\n",
    "print(\"Missing data in each column:\")\n",
    "print(missing_data)\n",
    "first.describe()"
   ]
  },
  {
   "cell_type": "code",
   "execution_count": 63,
   "id": "742f3e63",
   "metadata": {},
   "outputs": [],
   "source": [
    "# fixing date issue in auxiliary data and cleaning firm_id\n",
    "p = Path(folder)\n",
    "frames = []\n",
    "for csv_path in sorted(p.glob(\"*.csv\")):\n",
    "    m = re.match(r\"^(?P<y>\\d{4})_(?P<m>\\d{1,2})$\", csv_path.stem)\n",
    "    if not m:\n",
    "        print(f\"Jump file unavailable: {csv_path.name}\")\n",
    "        continue\n",
    "\n",
    "    y = int(m.group(\"y\"))\n",
    "    mth = int(m.group(\"m\"))\n",
    "    date_val = pd.Timestamp(year=y, month=mth, day=1)\n",
    "\n",
    "    df_i = pd.read_csv(csv_path)\n",
    "    df_i = df_i.drop(columns=[\"date\"], errors=\"ignore\")\n",
    "    df_i[\"date\"] = date_val\n",
    "\n",
    "    df_i['firm_id'] = df_i['firm_id'].apply(clean_firm_id)\n",
    "\n",
    "    frames.append(df_i)\n",
    "\n",
    "middle = pd.concat(frames, ignore_index=True)\n",
    "middle.to_csv('aggregate_firm_aux_cleaned.csv', index=False)\n",
    "# middle also has 56646 observations, same as entries in firm_sales!"
   ]
  },
  {
   "cell_type": "code",
   "execution_count": null,
   "id": "19d6dbcd",
   "metadata": {},
   "outputs": [
    {
     "name": "stdout",
     "output_type": "stream",
     "text": [
      "Filled missing values for employment_t\n",
      "Filled missing values for wage_bill_t\n",
      "Filled missing values for revenue_t\n"
     ]
    }
   ],
   "source": [
    "# Fill in missing employment, wage bill and revenue\n",
    "detrend_cols = ['employment_t', 'wage_bill_t', 'revenue_t']\n",
    "for col in detrend_cols:\n",
    "    middle_filled = gp_impute_firm_values(middle, target_col=col, group_col='firm_id')\n",
    "    middle = middle_filled\n",
    "    print(f\"Filled missing values for {col}\")\n",
    "middle.to_csv('aggregate_firm_aux_filled.csv', index=False)\n"
   ]
  },
  {
   "cell_type": "markdown",
   "id": "c2dce429",
   "metadata": {},
   "source": [
    "#### Final aggregation"
   ]
  },
  {
   "cell_type": "code",
   "execution_count": 121,
   "id": "bba746b8",
   "metadata": {},
   "outputs": [],
   "source": [
    "# Since both dataframe has the same number of observations, we could merge them directly\n",
    "firm_sales_final = pd.read_csv('aggregate_firm_sales_cleaned.csv')\n",
    "firm_aux_final = pd.read_csv('aggregate_firm_aux_cleaned.csv')\n",
    "final = firm_sales_final.merge(firm_aux_final, on=['firm_id', 'date'], how='left')\n",
    "final.to_csv('aggregate_firm_final_cleaned.csv', index=False)"
   ]
  },
  {
   "cell_type": "code",
   "execution_count": 122,
   "id": "79a045e7",
   "metadata": {},
   "outputs": [],
   "source": [
    "firm_sales_final_filled = pd.read_csv('aggregate_firm_sales_filled.csv')\n",
    "firm_aux_final_filled = pd.read_csv('aggregate_firm_aux_filled.csv')\n",
    "final_filled = firm_sales_final_filled.merge(firm_aux_final_filled, on=['firm_id', 'date'], how='left')\n",
    "final_filled.to_csv('aggregate_firm_final_filled.csv', index=False)"
   ]
  },
  {
   "cell_type": "markdown",
   "id": "f8fe39c5",
   "metadata": {},
   "source": [
    "### Eligibility check and data Description"
   ]
  },
  {
   "cell_type": "markdown",
   "id": "6db1c279",
   "metadata": {},
   "source": [
    "#### Program eligibility check"
   ]
  },
  {
   "cell_type": "code",
   "execution_count": null,
   "id": "b37fc60d",
   "metadata": {},
   "outputs": [
    {
     "name": "stderr",
     "output_type": "stream",
     "text": [
      "/var/folders/8k/bf2_91gd1j75mgs4pgp5x3n80000gn/T/ipykernel_1811/2552059611.py:6: FutureWarning: DataFrameGroupBy.apply operated on the grouping columns. This behavior is deprecated, and in a future version of pandas the grouping columns will be excluded from the operation. Either pass `include_groups=False` to exclude the groupings or explicitly select the grouping columns after groupby to silence this warning.\n",
      "  .apply(first_adoption_row)\n",
      "/var/folders/8k/bf2_91gd1j75mgs4pgp5x3n80000gn/T/ipykernel_1811/2552059611.py:14: FutureWarning: DataFrameGroupBy.apply operated on the grouping columns. This behavior is deprecated, and in a future version of pandas the grouping columns will be excluded from the operation. Either pass `include_groups=False` to exclude the groupings or explicitly select the grouping columns after groupby to silence this warning.\n",
      "  .apply(has_dropout)\n"
     ]
    }
   ],
   "source": [
    "# check that firms all adopt the program on 2013-01-01 and won't opt out\n",
    "first_adopt = (\n",
    "    final\n",
    "    .dropna(subset=['firm_id', 'date'])\n",
    "    .groupby('firm_id', group_keys=False, sort=False)\n",
    "    .apply(first_adoption_row)\n",
    "    .reset_index(drop=True)\n",
    ")\n",
    "\n",
    "dropout_flag = (\n",
    "    final\n",
    "    .dropna(subset=['firm_id', 'date'])\n",
    "    .groupby('firm_id', as_index=False, sort=False)\n",
    "    .apply(has_dropout)\n",
    "    .reset_index(drop=True)\n",
    ")\n",
    "# Find that not all firms adopted the program on 2013-01-01"
   ]
  },
  {
   "cell_type": "code",
   "execution_count": 111,
   "id": "0615a537",
   "metadata": {},
   "outputs": [
    {
     "name": "stdout",
     "output_type": "stream",
     "text": [
      "Distribution of adoption year: date\n",
      "2013-01-01    174\n",
      "2018-07-01      2\n",
      "2013-11-01      1\n",
      "2016-07-01      1\n",
      "2018-06-01      1\n",
      "2015-02-01      1\n",
      "2016-01-01      1\n",
      "Name: count, dtype: int64\n",
      "Total number of firms: 498\n",
      "Number and share of firms dropping out: 0 (0.00%)\n"
     ]
    }
   ],
   "source": [
    "adopt_distribution = first_adopt['date'].value_counts()\n",
    "num_firms = dropout_flag.shape[0]\n",
    "num_dropped = int(dropout_flag['dropped_out'].sum())\n",
    "print(f'Distribution of adoption year: {adopt_distribution}')\n",
    "print(f'Total number of firms: {num_firms}')\n",
    "print(f'Number and share of firms dropping out: {num_dropped} ({num_dropped/num_firms:.2%})')"
   ]
  },
  {
   "cell_type": "code",
   "execution_count": 115,
   "id": "e898ed89",
   "metadata": {},
   "outputs": [
    {
     "name": "stderr",
     "output_type": "stream",
     "text": [
      "/var/folders/8k/bf2_91gd1j75mgs4pgp5x3n80000gn/T/ipykernel_1811/3487072785.py:6: FutureWarning: DataFrameGroupBy.apply operated on the grouping columns. This behavior is deprecated, and in a future version of pandas the grouping columns will be excluded from the operation. Either pass `include_groups=False` to exclude the groupings or explicitly select the grouping columns after groupby to silence this warning.\n",
      "  .apply(first_adoption_row)\n",
      "/var/folders/8k/bf2_91gd1j75mgs4pgp5x3n80000gn/T/ipykernel_1811/3487072785.py:14: FutureWarning: DataFrameGroupBy.apply operated on the grouping columns. This behavior is deprecated, and in a future version of pandas the grouping columns will be excluded from the operation. Either pass `include_groups=False` to exclude the groupings or explicitly select the grouping columns after groupby to silence this warning.\n",
      "  .apply(has_dropout)\n"
     ]
    }
   ],
   "source": [
    "# check that firms all adopt the program on 2013-01-01 and won't opt out\n",
    "first_adopt_filled = (\n",
    "    final_filled\n",
    "    .dropna(subset=['firm_id', 'date'])\n",
    "    .groupby('firm_id', group_keys=False, sort=False)\n",
    "    .apply(first_adoption_row)\n",
    "    .reset_index(drop=True)\n",
    ")\n",
    "\n",
    "dropout_flag_filled = (\n",
    "    final_filled\n",
    "    .dropna(subset=['firm_id', 'date'])\n",
    "    .groupby('firm_id', as_index=False, sort=False)\n",
    "    .apply(has_dropout)\n",
    "    .reset_index(drop=True)\n",
    ")\n",
    "# Find that not all firms adopted the program on 2013-01-01"
   ]
  },
  {
   "cell_type": "code",
   "execution_count": 116,
   "id": "fe9a3f54",
   "metadata": {},
   "outputs": [
    {
     "name": "stdout",
     "output_type": "stream",
     "text": [
      "Distribution of adoption year: date\n",
      "2013-01-01    174\n",
      "2018-07-01      2\n",
      "2013-11-01      1\n",
      "2016-07-01      1\n",
      "2018-06-01      1\n",
      "2015-02-01      1\n",
      "2016-01-01      1\n",
      "Name: count, dtype: int64\n",
      "Total number of firms: 498\n",
      "Number and share of firms dropping out: 0 (0.00%)\n"
     ]
    }
   ],
   "source": [
    "adopt_distribution_filled = first_adopt_filled['date'].value_counts()\n",
    "num_firms_filled = dropout_flag_filled.shape[0]\n",
    "num_dropped_filled = int(dropout_flag_filled['dropped_out'].sum())\n",
    "print(f'Distribution of adoption year: {adopt_distribution_filled}')\n",
    "print(f'Total number of firms: {num_firms_filled}')\n",
    "print(f'Number and share of firms dropping out: {num_dropped_filled} ({num_dropped_filled/num_firms_filled:.2%})')"
   ]
  },
  {
   "cell_type": "markdown",
   "id": "22a5924d",
   "metadata": {},
   "source": [
    "#### Qualitative data analysis"
   ]
  },
  {
   "cell_type": "code",
   "execution_count": 123,
   "id": "4a6d3ae9",
   "metadata": {},
   "outputs": [
    {
     "data": {
      "image/png": "[encoded data removed]",
      "text/plain": [
       "<Figure size 800x400 with 1 Axes>"
      ]
     },
     "metadata": {},
     "output_type": "display_data"
    }
   ],
   "source": [
    "# visualize year that firms adopt the program\n",
    "first_adopt = first_adopt.copy()\n",
    "first_adopt['adopt_year'] = pd.to_datetime(first_adopt['date']).dt.year\n",
    "year_counts = first_adopt['adopt_year'].value_counts().sort_index()\n",
    "\n",
    "plt.figure(figsize=(8,4))\n",
    "year_counts.plot(kind='bar', color='teal')\n",
    "plt.title('Distribution of First Adoption Year')\n",
    "plt.xlabel('Year')\n",
    "plt.ylabel('Number of Firms')\n",
    "plt.xticks(rotation=0)\n",
    "plt.tight_layout()\n",
    "plt.show()\n",
    "\n",
    "# After imputation this remains the same as adoption year is not missing"
   ]
  },
  {
   "cell_type": "code",
   "execution_count": null,
   "id": "0e1e1e60",
   "metadata": {},
   "outputs": [
    {
     "data": {
      "image/png": "[encoded data removed]",
      "text/plain": [
       "<Figure size 1000x500 with 1 Axes>"
      ]
     },
     "metadata": {},
     "output_type": "display_data"
    }
   ],
   "source": [
    "# visualize the distribution of firm sectors among adopters\n",
    "sector_counts = first_adopt['firm_sector'].value_counts().sort_values(ascending=False)\n",
    "plt.figure(figsize=(10,5))\n",
    "sector_counts.plot(kind='bar', color='steelblue')\n",
    "firm_info['firm_sector'].value_counts().plot(kind='bar', color='lightgray', alpha=0.5)\n",
    "plt.title('Distribution of Firm Sectors Among Adopting Firms')\n",
    "plt.xlabel('Sector')\n",
    "plt.ylabel('Number of Firms')\n",
    "plt.xticks(rotation=45, ha='right')\n",
    "plt.tight_layout()\n",
    "plt.show()\n",
    "\n",
    "# After imputation this remains the same as firm sector is not missing"
   ]
  },
  {
   "cell_type": "code",
   "execution_count": 124,
   "id": "bceda17b",
   "metadata": {},
   "outputs": [
    {
     "data": {
      "image/png": "[encoded data removed]",
      "text/plain": [
       "<Figure size 800x500 with 1 Axes>"
      ]
     },
     "metadata": {},
     "output_type": "display_data"
    },
    {
     "data": {
      "image/png": "[encoded data removed]",
      "text/plain": [
       "<Figure size 800x500 with 1 Axes>"
      ]
     },
     "metadata": {},
     "output_type": "display_data"
    }
   ],
   "source": [
    "# visualize the distribution of employees among adopters\n",
    "emp_vals = pd.to_numeric(first_adopt['employment_t'], errors='coerce').dropna()\n",
    "plt.figure(figsize=(8,5))\n",
    "plt.hist(emp_vals, bins=30, color='skyblue', edgecolor='black')\n",
    "plt.title('Distribution of Employment for Adopting Firms')\n",
    "plt.xlabel('employment_t')\n",
    "plt.ylabel('Frequency')\n",
    "# Reference lines: Mean and Median\n",
    "mean_v, med_v = emp_vals.mean(), emp_vals.median()\n",
    "plt.axvline(mean_v, color='red', linestyle='--', label=f'Mean={mean_v:.1f}')\n",
    "plt.axvline(med_v, color='green', linestyle=':', label=f'Median={med_v:.1f}')\n",
    "plt.legend()\n",
    "plt.tight_layout()\n",
    "plt.show()\n",
    "\n",
    "# visualize the distribution of employees among adopters after imputation\n",
    "emp_vals_filled = pd.to_numeric(first_adopt_filled['employment_t'], errors='coerce').dropna()\n",
    "plt.figure(figsize=(8,5))\n",
    "plt.hist(emp_vals_filled, bins=30, color='skyblue', edgecolor='black')\n",
    "plt.title('Distribution of Employment for Adopting Firms (After Imputation)')\n",
    "plt.xlabel('employment_t')\n",
    "plt.ylabel('Frequency')\n",
    "# Reference lines: Mean and Median\n",
    "mean_v_filled, med_v_filled = emp_vals_filled.mean(), emp_vals_filled.median()\n",
    "plt.axvline(mean_v_filled, color='red', linestyle='--', label=f'Mean={mean_v_filled:.1f}')\n",
    "plt.axvline(med_v_filled, color='green', linestyle=':', label=f'Median={med_v_filled:.1f}')\n",
    "plt.legend()\n",
    "plt.tight_layout()\n",
    "plt.show()"
   ]
  },
  {
   "cell_type": "markdown",
   "id": "a5f9d333",
   "metadata": {},
   "source": [
    "### Final Adjustment"
   ]
  },
  {
   "cell_type": "markdown",
   "id": "32b6fe75",
   "metadata": {},
   "source": [
    "Since we know from the setting that:   \n",
    "- The program began on January 1st, 2013.   \n",
    "- Only firms with 100 or fewer employees were eligible to participate in the program.   \n",
    "We drop abnormal observations since they don't follow these domain knowledge"
   ]
  },
  {
   "cell_type": "code",
   "execution_count": 125,
   "id": "7168a397",
   "metadata": {},
   "outputs": [
    {
     "name": "stdout",
     "output_type": "stream",
     "text": [
      "Number of firms to drop: 11\n",
      "Number of firms: Before dropping 498, After dropping 487, Reduced 11\n"
     ]
    }
   ],
   "source": [
    "# For original data, we drop firms that didn't adopt on 2013-01-01 or have more than 100 employees\n",
    "fa = first_adopt.copy()\n",
    "fa['date'] = pd.to_datetime(fa['date'], errors='coerce')\n",
    "fa['employment_t_num'] = pd.to_numeric(fa['employment_t'], errors='coerce')\n",
    "\n",
    "bad_mask = (fa['date'] != pd.Timestamp('2013-01-01')) | (fa['employment_t_num'] > 100)\n",
    "bad_firms = fa.loc[bad_mask, 'firm_id'].dropna().unique()\n",
    "\n",
    "print(f'Number of firms to drop: {len(bad_firms)}')\n",
    "\n",
    "# Drop the firms\n",
    "before_n = final['firm_id'].nunique()\n",
    "final = final[~final['firm_id'].isin(bad_firms)].copy()\n",
    "after_n = final['firm_id'].nunique()\n",
    "\n",
    "print(f'Number of firms: Before dropping {before_n}, After dropping {after_n}, Reduced {before_n - after_n}')"
   ]
  },
  {
   "cell_type": "code",
   "execution_count": 126,
   "id": "2639915c",
   "metadata": {},
   "outputs": [
    {
     "name": "stdout",
     "output_type": "stream",
     "text": [
      "Number of firms to drop: 13\n",
      "Number of firms: Before dropping 498, After dropping 485, Reduced 13\n"
     ]
    }
   ],
   "source": [
    "# For imputed data, we drop firms that didn't adopt on 2013-01-01 or have more than 100 employees\n",
    "fa_filled = first_adopt_filled.copy()\n",
    "fa_filled['date'] = pd.to_datetime(fa_filled['date'], errors='coerce')\n",
    "fa_filled['employment_t_num'] = pd.to_numeric(fa_filled['employment_t'], errors='coerce')\n",
    "\n",
    "bad_mask_filled = (fa_filled['date'] != pd.Timestamp('2013-01-01')) | (fa_filled['employment_t_num'] > 100)\n",
    "bad_firms_filled = fa_filled.loc[bad_mask_filled, 'firm_id'].dropna().unique()\n",
    "\n",
    "print(f'Number of firms to drop: {len(bad_firms_filled)}')\n",
    "\n",
    "# Drop the firms\n",
    "before_n = final_filled['firm_id'].nunique()\n",
    "final_filled = final_filled[~final_filled['firm_id'].isin(bad_firms_filled)].copy()\n",
    "after_n = final_filled['firm_id'].nunique()\n",
    "\n",
    "print(f'Number of firms: Before dropping {before_n}, After dropping {after_n}, Reduced {before_n - after_n}')"
   ]
  },
  {
   "cell_type": "code",
   "execution_count": 127,
   "id": "a998fd6b",
   "metadata": {},
   "outputs": [],
   "source": [
    "final.to_csv('aggregate_firm_final_cleaned.csv', index=False)\n",
    "final_filled.to_csv('aggregate_firm_final_filled.csv', index=False)"
   ]
  }
 ],
 "metadata": {
  "kernelspec": {
   "display_name": ".venv (3.11.13)",
   "language": "python",
   "name": "python3"
  },
  "language_info": {
   "codemirror_mode": {
    "name": "ipython",
    "version": 3
   },
   "file_extension": ".py",
   "mimetype": "text/x-python",
   "name": "python",
   "nbconvert_exporter": "python",
   "pygments_lexer": "ipython3",
   "version": "3.11.13"
  }
 },
 "nbformat": 4,
 "nbformat_minor": 5
}
