{
 "cells": [
  {
   "cell_type": "markdown",
   "id": "2c2e5259",
   "metadata": {},
   "source": [
    "## Empirical estimate of program effect"
   ]
  },
  {
   "cell_type": "markdown",
   "id": "2f4945f6",
   "metadata": {},
   "source": [
    "In this file, empirical methods are applied to analyze the effect of the small business training program"
   ]
  },
  {
   "cell_type": "markdown",
   "id": "0f333470",
   "metadata": {},
   "source": [
    "### Propensity score with DID"
   ]
  },
  {
   "cell_type": "code",
   "execution_count": null,
   "id": "e87243f5",
   "metadata": {},
   "outputs": [],
   "source": [
    "# packages and globals\n"
   ]
  }
 ],
 "metadata": {
  "kernelspec": {
   "display_name": ".venv (3.11.13)",
   "language": "python",
   "name": "python3"
  },
  "language_info": {
   "name": "python",
   "version": "3.11.13"
  }
 },
 "nbformat": 4,
 "nbformat_minor": 5
}
